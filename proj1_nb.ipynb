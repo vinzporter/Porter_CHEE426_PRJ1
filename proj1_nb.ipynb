{
 "cells": [
  {
   "cell_type": "markdown",
   "metadata": {},
   "source": [
    "# CHEE 426 Project 1\n",
    "## Vanel Porter\n",
    "## c00257139\n",
    "\n",
    "Spring 2024\n",
    "\n",
    "This is a demonstration of how to work on the Project 1. Use this notebook as a guide or template.\n",
    "\n",
    "This is based on the textbook notebook for Chapter 2."
   ]
  },
  {
   "cell_type": "markdown",
   "metadata": {
    "jp-MarkdownHeadingCollapsed": true
   },
   "source": [
    "## Problem Statement:\n",
    "\n",
    "This Project 1 for the course is the application of the concepts and techniques for the materials covered in Chapter 1 and 2. The problem you have to solve is to develop a regression model for the prediction of CO emissions of light-duty vehicles by training on the fuel economy dataset collected by US-EPA for vehicle model year 2024. "
   ]
  },
  {
   "cell_type": "markdown",
   "metadata": {},
   "source": [
    "## Import Python Modules (packages) \n",
    "Packages are where we will get functions to use in the workflow."
   ]
  },
  {
   "cell_type": "code",
   "execution_count": 84,
   "metadata": {},
   "outputs": [],
   "source": [
    "# Make sure that the Kernel you are using is the environment you created for this project.\n",
    "# Any imports of Pyhton modules may result to error if your Kernel is not your intended environment\n",
    "#\n",
    "# The current Kernel is shown i the Upper-right corner of this notebook.\n",
    "# To change Kernel: Menu > Kernel > Change Kernel... > click drop-down and select the name of the environment you created for the project\n",
    "# The default Kernel in a Jupyter Notebook is the base(root) Python\n",
    "\n",
    "\n",
    "import pandas as pd\n",
    "import numpy as np\n",
    "\n",
    "import seaborn as sns\n",
    "from matplotlib import pyplot as plt\n",
    "%matplotlib inline"
   ]
  },
  {
   "cell_type": "markdown",
   "metadata": {},
   "source": [
    "## Import Data"
   ]
  },
  {
   "cell_type": "code",
   "execution_count": 85,
   "metadata": {},
   "outputs": [
    {
     "data": {
      "text/plain": [
       "3114"
      ]
     },
     "execution_count": 85,
     "metadata": {},
     "output_type": "execute_result"
    }
   ],
   "source": [
    "# Make sure the the CSV file of the data 'proj1data.csv' is in the same folder as this notebook file.\n",
    "\n",
    "df = pd.read_csv('proj1data.csv')\n",
    "len(df)"
   ]
  },
  {
   "cell_type": "markdown",
   "metadata": {},
   "source": [
    "## Preprocess and Prepare Data"
   ]
  },
  {
   "cell_type": "code",
   "execution_count": null,
   "metadata": {},
   "outputs": [],
   "source": []
  },
  {
   "cell_type": "code",
   "execution_count": 86,
   "metadata": {
    "scrolled": false
   },
   "outputs": [
    {
     "data": {
      "text/html": [
       "<div>\n",
       "<style scoped>\n",
       "    .dataframe tbody tr th:only-of-type {\n",
       "        vertical-align: middle;\n",
       "    }\n",
       "\n",
       "    .dataframe tbody tr th {\n",
       "        vertical-align: top;\n",
       "    }\n",
       "\n",
       "    .dataframe thead th {\n",
       "        text-align: right;\n",
       "    }\n",
       "</style>\n",
       "<table border=\"1\" class=\"dataframe\">\n",
       "  <thead>\n",
       "    <tr style=\"text-align: right;\">\n",
       "      <th></th>\n",
       "      <th>Model Year</th>\n",
       "      <th>Vehicle Manufacturer Name</th>\n",
       "      <th>Veh Mfr Code</th>\n",
       "      <th>Represented Test Veh Make</th>\n",
       "      <th>Represented Test Veh Model</th>\n",
       "      <th>Test Vehicle ID</th>\n",
       "      <th>Test Veh Configuration #</th>\n",
       "      <th>Test Veh Displacement (L)</th>\n",
       "      <th>Actual Tested Testgroup</th>\n",
       "      <th>Vehicle Type</th>\n",
       "      <th>...</th>\n",
       "      <th>Set Coef A (lbf)</th>\n",
       "      <th>Set Coef B (lbf/mph)</th>\n",
       "      <th>Set Coef C (lbf/mph**2)</th>\n",
       "      <th>Aftertreatment Device Cd</th>\n",
       "      <th>Aftertreatment Device Desc</th>\n",
       "      <th>Police - Emergency Vehicle?</th>\n",
       "      <th>Averaging Group ID</th>\n",
       "      <th>Averaging Weighting Factor</th>\n",
       "      <th>Averaging Method Cd</th>\n",
       "      <th>Averging Method Desc</th>\n",
       "    </tr>\n",
       "  </thead>\n",
       "  <tbody>\n",
       "    <tr>\n",
       "      <th>0</th>\n",
       "      <td>2024</td>\n",
       "      <td>aston martin</td>\n",
       "      <td>ASX</td>\n",
       "      <td>Aston Martin</td>\n",
       "      <td>DB12 V8</td>\n",
       "      <td>5723PT5601</td>\n",
       "      <td>0</td>\n",
       "      <td>4.0</td>\n",
       "      <td>RASXV04.0AES</td>\n",
       "      <td>Car</td>\n",
       "      <td>...</td>\n",
       "      <td>5.67</td>\n",
       "      <td>0.0083</td>\n",
       "      <td>0.0221</td>\n",
       "      <td>TWC</td>\n",
       "      <td>Three-way catalyst</td>\n",
       "      <td>N</td>\n",
       "      <td>NaN</td>\n",
       "      <td>NaN</td>\n",
       "      <td>N</td>\n",
       "      <td>No averaging</td>\n",
       "    </tr>\n",
       "    <tr>\n",
       "      <th>1</th>\n",
       "      <td>2024</td>\n",
       "      <td>aston martin</td>\n",
       "      <td>ASX</td>\n",
       "      <td>Aston Martin</td>\n",
       "      <td>DB12 V8</td>\n",
       "      <td>5723PT5601</td>\n",
       "      <td>0</td>\n",
       "      <td>4.0</td>\n",
       "      <td>RASXV04.0AES</td>\n",
       "      <td>Car</td>\n",
       "      <td>...</td>\n",
       "      <td>5.67</td>\n",
       "      <td>0.0083</td>\n",
       "      <td>0.0221</td>\n",
       "      <td>TWC</td>\n",
       "      <td>Three-way catalyst</td>\n",
       "      <td>N</td>\n",
       "      <td>NaN</td>\n",
       "      <td>NaN</td>\n",
       "      <td>N</td>\n",
       "      <td>No averaging</td>\n",
       "    </tr>\n",
       "    <tr>\n",
       "      <th>2</th>\n",
       "      <td>2024</td>\n",
       "      <td>aston martin</td>\n",
       "      <td>ASX</td>\n",
       "      <td>Aston Martin</td>\n",
       "      <td>DBX</td>\n",
       "      <td>8001PT8342</td>\n",
       "      <td>1</td>\n",
       "      <td>4.0</td>\n",
       "      <td>MASXJ04.0AEX</td>\n",
       "      <td>Both</td>\n",
       "      <td>...</td>\n",
       "      <td>-4.88</td>\n",
       "      <td>-0.5318</td>\n",
       "      <td>0.0367</td>\n",
       "      <td>TWC</td>\n",
       "      <td>Three-way catalyst</td>\n",
       "      <td>N</td>\n",
       "      <td>NaN</td>\n",
       "      <td>NaN</td>\n",
       "      <td>N</td>\n",
       "      <td>No averaging</td>\n",
       "    </tr>\n",
       "    <tr>\n",
       "      <th>3</th>\n",
       "      <td>2024</td>\n",
       "      <td>aston martin</td>\n",
       "      <td>ASX</td>\n",
       "      <td>Aston Martin</td>\n",
       "      <td>DBX</td>\n",
       "      <td>8001PT8342</td>\n",
       "      <td>1</td>\n",
       "      <td>4.0</td>\n",
       "      <td>MASXJ04.0AEX</td>\n",
       "      <td>Both</td>\n",
       "      <td>...</td>\n",
       "      <td>-4.88</td>\n",
       "      <td>-0.5318</td>\n",
       "      <td>0.0367</td>\n",
       "      <td>TWC</td>\n",
       "      <td>Three-way catalyst</td>\n",
       "      <td>N</td>\n",
       "      <td>NaN</td>\n",
       "      <td>NaN</td>\n",
       "      <td>N</td>\n",
       "      <td>No averaging</td>\n",
       "    </tr>\n",
       "    <tr>\n",
       "      <th>4</th>\n",
       "      <td>2024</td>\n",
       "      <td>aston martin</td>\n",
       "      <td>ASX</td>\n",
       "      <td>Aston Martin</td>\n",
       "      <td>DBX 707</td>\n",
       "      <td>8841PT8473</td>\n",
       "      <td>0</td>\n",
       "      <td>4.0</td>\n",
       "      <td>PASXJ04.0AEX</td>\n",
       "      <td>Both</td>\n",
       "      <td>...</td>\n",
       "      <td>-4.88</td>\n",
       "      <td>-0.5318</td>\n",
       "      <td>0.0367</td>\n",
       "      <td>TWC</td>\n",
       "      <td>Three-way catalyst</td>\n",
       "      <td>N</td>\n",
       "      <td>NaN</td>\n",
       "      <td>NaN</td>\n",
       "      <td>N</td>\n",
       "      <td>No averaging</td>\n",
       "    </tr>\n",
       "  </tbody>\n",
       "</table>\n",
       "<p>5 rows × 67 columns</p>\n",
       "</div>"
      ],
      "text/plain": [
       "   Model Year Vehicle Manufacturer Name Veh Mfr Code  \\\n",
       "0        2024              aston martin          ASX   \n",
       "1        2024              aston martin          ASX   \n",
       "2        2024              aston martin          ASX   \n",
       "3        2024              aston martin          ASX   \n",
       "4        2024              aston martin          ASX   \n",
       "\n",
       "  Represented Test Veh Make Represented Test Veh Model Test Vehicle ID  \\\n",
       "0              Aston Martin                    DB12 V8      5723PT5601   \n",
       "1              Aston Martin                    DB12 V8      5723PT5601   \n",
       "2              Aston Martin                        DBX      8001PT8342   \n",
       "3              Aston Martin                        DBX      8001PT8342   \n",
       "4              Aston Martin                    DBX 707      8841PT8473   \n",
       "\n",
       "   Test Veh Configuration #  Test Veh Displacement (L)  \\\n",
       "0                         0                        4.0   \n",
       "1                         0                        4.0   \n",
       "2                         1                        4.0   \n",
       "3                         1                        4.0   \n",
       "4                         0                        4.0   \n",
       "\n",
       "  Actual Tested Testgroup Vehicle Type  ...  Set Coef A (lbf)  \\\n",
       "0            RASXV04.0AES          Car  ...              5.67   \n",
       "1            RASXV04.0AES          Car  ...              5.67   \n",
       "2            MASXJ04.0AEX         Both  ...             -4.88   \n",
       "3            MASXJ04.0AEX         Both  ...             -4.88   \n",
       "4            PASXJ04.0AEX         Both  ...             -4.88   \n",
       "\n",
       "   Set Coef B (lbf/mph) Set Coef C (lbf/mph**2) Aftertreatment Device Cd  \\\n",
       "0                0.0083                  0.0221                      TWC   \n",
       "1                0.0083                  0.0221                      TWC   \n",
       "2               -0.5318                  0.0367                      TWC   \n",
       "3               -0.5318                  0.0367                      TWC   \n",
       "4               -0.5318                  0.0367                      TWC   \n",
       "\n",
       "  Aftertreatment Device Desc  Police - Emergency Vehicle? Averaging Group ID  \\\n",
       "0         Three-way catalyst                            N                NaN   \n",
       "1         Three-way catalyst                            N                NaN   \n",
       "2         Three-way catalyst                            N                NaN   \n",
       "3         Three-way catalyst                            N                NaN   \n",
       "4         Three-way catalyst                            N                NaN   \n",
       "\n",
       "  Averaging Weighting Factor Averaging Method Cd  Averging Method Desc  \n",
       "0                        NaN                   N          No averaging  \n",
       "1                        NaN                   N          No averaging  \n",
       "2                        NaN                   N          No averaging  \n",
       "3                        NaN                   N          No averaging  \n",
       "4                        NaN                   N          No averaging  \n",
       "\n",
       "[5 rows x 67 columns]"
      ]
     },
     "execution_count": 86,
     "metadata": {},
     "output_type": "execute_result"
    }
   ],
   "source": [
    "df.head()\n"
   ]
  },
  {
   "cell_type": "code",
   "execution_count": null,
   "metadata": {},
   "outputs": [],
   "source": []
  },
  {
   "cell_type": "code",
   "execution_count": 87,
   "metadata": {},
   "outputs": [
    {
     "data": {
      "text/plain": [
       "Index(['Model Year', 'Vehicle Manufacturer Name', 'Veh Mfr Code',\n",
       "       'Represented Test Veh Make', 'Represented Test Veh Model',\n",
       "       'Test Vehicle ID', 'Test Veh Configuration #',\n",
       "       'Test Veh Displacement (L)', 'Actual Tested Testgroup', 'Vehicle Type',\n",
       "       'Rated Horsepower', '# of Cylinders and Rotors', 'Engine Code',\n",
       "       'Tested Transmission Type Code', 'Tested Transmission Type',\n",
       "       '# of Gears', 'Transmission Lockup?', 'Drive System Code',\n",
       "       'Drive System Description', 'Transmission Overdrive Code',\n",
       "       'Transmission Overdrive Desc', 'Equivalent Test Weight (lbs.)',\n",
       "       'Axle Ratio', 'N/V Ratio', 'Shift Indicator Light Use Cd',\n",
       "       'Shift Indicator Light Use Desc', 'Test Number', 'Test Originator',\n",
       "       'Analytically Derived FE?', 'ADFE Test Number',\n",
       "       'ADFE Total Road Load HP', 'ADFE Equiv. Test Weight (lbs.)',\n",
       "       'ADFE N/V Ratio', 'Test Procedure Cd', 'Test Procedure Description',\n",
       "       'Test Fuel Type Cd', 'Test Fuel Type Description', 'Test Category',\n",
       "       'THC (g/mi)', 'CO (g/mi)', 'CO2 (g/mi)', 'NOx (g/mi)', 'PM (g/mi)',\n",
       "       'CH4 (g/mi)', 'N2O (g/mi)', 'RND_ADJ_FE', 'FE_UNIT', 'FE Bag 1',\n",
       "       'FE Bag 2', 'FE Bag 3', 'FE Bag 4', 'DT-Inertia Work Ratio Rating',\n",
       "       'DT-Absolute Speed Change Ratg', 'DT-Energy Economy Rating',\n",
       "       'Target Coef A (lbf)', 'Target Coef B (lbf/mph)',\n",
       "       'Target Coef C (lbf/mph**2)', 'Set Coef A (lbf)',\n",
       "       'Set Coef B (lbf/mph)', 'Set Coef C (lbf/mph**2)',\n",
       "       'Aftertreatment Device Cd', 'Aftertreatment Device Desc',\n",
       "       'Police - Emergency Vehicle?', 'Averaging Group ID',\n",
       "       'Averaging Weighting Factor', 'Averaging Method Cd',\n",
       "       'Averging Method Desc'],\n",
       "      dtype='object')"
      ]
     },
     "execution_count": 87,
     "metadata": {},
     "output_type": "execute_result"
    }
   ],
   "source": [
    "# chekc column names: note that each dataset has its own set column names so check the column names everytime\n",
    "df.columns"
   ]
  },
  {
   "cell_type": "code",
   "execution_count": null,
   "metadata": {},
   "outputs": [],
   "source": []
  },
  {
   "cell_type": "code",
   "execution_count": 88,
   "metadata": {},
   "outputs": [],
   "source": [
    "################################################\n",
    "# Stumbling block a bit here (above).\n",
    "# The column names are not good for Pyhotn code due to the special characters. More challenging than the author textbook demo.\n",
    "#\n",
    "# We have to remove some unwanted characters in addiiton to 'white space' such as: (, ), /, **\n",
    "#\n",
    "# We can do this using Pandas function str.replace() with the argument: ('[^\\w]','', regex=True)\n",
    "# That is, replace everything other than \\w . \\w Matches alphanumeric characters and the underscore, _.\n",
    "#\n",
    "# If you wonder how to know what to do in cases like this challenging one. Google it! No kidding. There is a wide\n",
    "# community of Python coders doing ML all around the world. There are online forums where issues/challenges and solutions\n",
    "# are being exhanged. This is still way better than ChatGPT (at least for now). \n",
    "# Or, if you are very patient, check the documentation of Pandas\n",
    "#\n",
    "################################################\n",
    "\n",
    "df.columns = df.columns.str.lower().str.replace(' ','_', regex=True) # replace all spaces with '_'\n",
    "df.columns = df.columns.str.lower().str.replace('[^\\w]','', regex=True) # then remove all spacial characters\n"
   ]
  },
  {
   "cell_type": "code",
   "execution_count": 89,
   "metadata": {},
   "outputs": [
    {
     "data": {
      "text/plain": [
       "Index(['model_year', 'vehicle_manufacturer_name', 'veh_mfr_code',\n",
       "       'represented_test_veh_make', 'represented_test_veh_model',\n",
       "       'test_vehicle_id', 'test_veh_configuration_', 'test_veh_displacement_l',\n",
       "       'actual_tested_testgroup', 'vehicle_type', 'rated_horsepower',\n",
       "       '_of_cylinders_and_rotors', 'engine_code',\n",
       "       'tested_transmission_type_code', 'tested_transmission_type',\n",
       "       '_of_gears', 'transmission_lockup', 'drive_system_code',\n",
       "       'drive_system_description', 'transmission_overdrive_code',\n",
       "       'transmission_overdrive_desc', 'equivalent_test_weight_lbs',\n",
       "       'axle_ratio', 'nv_ratio', 'shift_indicator_light_use_cd',\n",
       "       'shift_indicator_light_use_desc', 'test_number', 'test_originator',\n",
       "       'analytically_derived_fe', 'adfe_test_number',\n",
       "       'adfe_total_road_load_hp', 'adfe_equiv_test_weight_lbs',\n",
       "       'adfe_nv_ratio', 'test_procedure_cd', 'test_procedure_description',\n",
       "       'test_fuel_type_cd', 'test_fuel_type_description', 'test_category',\n",
       "       'thc_gmi', 'co_gmi', 'co2_gmi', 'nox_gmi', 'pm_gmi', 'ch4_gmi',\n",
       "       'n2o_gmi', 'rnd_adj_fe', 'fe_unit', 'fe_bag_1', 'fe_bag_2', 'fe_bag_3',\n",
       "       'fe_bag_4', 'dtinertia_work_ratio_rating',\n",
       "       'dtabsolute_speed_change_ratg', 'dtenergy_economy_rating',\n",
       "       'target_coef_a_lbf', 'target_coef_b_lbfmph', 'target_coef_c_lbfmph2',\n",
       "       'set_coef_a_lbf', 'set_coef_b_lbfmph', 'set_coef_c_lbfmph2',\n",
       "       'aftertreatment_device_cd', 'aftertreatment_device_desc',\n",
       "       'police__emergency_vehicle', 'averaging_group_id',\n",
       "       'averaging_weighting_factor', 'averaging_method_cd',\n",
       "       'averging_method_desc'],\n",
       "      dtype='object')"
      ]
     },
     "execution_count": 89,
     "metadata": {},
     "output_type": "execute_result"
    }
   ],
   "source": [
    "# chekc column names to verify no unwanted characters in colnames\n",
    "df.columns"
   ]
  },
  {
   "cell_type": "code",
   "execution_count": 90,
   "metadata": {
    "scrolled": true
   },
   "outputs": [
    {
     "data": {
      "text/html": [
       "<div>\n",
       "<style scoped>\n",
       "    .dataframe tbody tr th:only-of-type {\n",
       "        vertical-align: middle;\n",
       "    }\n",
       "\n",
       "    .dataframe tbody tr th {\n",
       "        vertical-align: top;\n",
       "    }\n",
       "\n",
       "    .dataframe thead th {\n",
       "        text-align: right;\n",
       "    }\n",
       "</style>\n",
       "<table border=\"1\" class=\"dataframe\">\n",
       "  <thead>\n",
       "    <tr style=\"text-align: right;\">\n",
       "      <th></th>\n",
       "      <th>model_year</th>\n",
       "      <th>vehicle_manufacturer_name</th>\n",
       "      <th>veh_mfr_code</th>\n",
       "      <th>represented_test_veh_make</th>\n",
       "      <th>represented_test_veh_model</th>\n",
       "      <th>test_vehicle_id</th>\n",
       "      <th>test_veh_configuration_</th>\n",
       "      <th>test_veh_displacement_l</th>\n",
       "      <th>actual_tested_testgroup</th>\n",
       "      <th>vehicle_type</th>\n",
       "      <th>...</th>\n",
       "      <th>set_coef_a_lbf</th>\n",
       "      <th>set_coef_b_lbfmph</th>\n",
       "      <th>set_coef_c_lbfmph2</th>\n",
       "      <th>aftertreatment_device_cd</th>\n",
       "      <th>aftertreatment_device_desc</th>\n",
       "      <th>police__emergency_vehicle</th>\n",
       "      <th>averaging_group_id</th>\n",
       "      <th>averaging_weighting_factor</th>\n",
       "      <th>averaging_method_cd</th>\n",
       "      <th>averging_method_desc</th>\n",
       "    </tr>\n",
       "  </thead>\n",
       "  <tbody>\n",
       "    <tr>\n",
       "      <th>0</th>\n",
       "      <td>2024</td>\n",
       "      <td>aston martin</td>\n",
       "      <td>ASX</td>\n",
       "      <td>Aston Martin</td>\n",
       "      <td>DB12 V8</td>\n",
       "      <td>5723PT5601</td>\n",
       "      <td>0</td>\n",
       "      <td>4.0</td>\n",
       "      <td>RASXV04.0AES</td>\n",
       "      <td>Car</td>\n",
       "      <td>...</td>\n",
       "      <td>5.67</td>\n",
       "      <td>0.0083</td>\n",
       "      <td>0.0221</td>\n",
       "      <td>TWC</td>\n",
       "      <td>Three-way catalyst</td>\n",
       "      <td>N</td>\n",
       "      <td>NaN</td>\n",
       "      <td>NaN</td>\n",
       "      <td>N</td>\n",
       "      <td>No averaging</td>\n",
       "    </tr>\n",
       "    <tr>\n",
       "      <th>1</th>\n",
       "      <td>2024</td>\n",
       "      <td>aston martin</td>\n",
       "      <td>ASX</td>\n",
       "      <td>Aston Martin</td>\n",
       "      <td>DB12 V8</td>\n",
       "      <td>5723PT5601</td>\n",
       "      <td>0</td>\n",
       "      <td>4.0</td>\n",
       "      <td>RASXV04.0AES</td>\n",
       "      <td>Car</td>\n",
       "      <td>...</td>\n",
       "      <td>5.67</td>\n",
       "      <td>0.0083</td>\n",
       "      <td>0.0221</td>\n",
       "      <td>TWC</td>\n",
       "      <td>Three-way catalyst</td>\n",
       "      <td>N</td>\n",
       "      <td>NaN</td>\n",
       "      <td>NaN</td>\n",
       "      <td>N</td>\n",
       "      <td>No averaging</td>\n",
       "    </tr>\n",
       "    <tr>\n",
       "      <th>2</th>\n",
       "      <td>2024</td>\n",
       "      <td>aston martin</td>\n",
       "      <td>ASX</td>\n",
       "      <td>Aston Martin</td>\n",
       "      <td>DBX</td>\n",
       "      <td>8001PT8342</td>\n",
       "      <td>1</td>\n",
       "      <td>4.0</td>\n",
       "      <td>MASXJ04.0AEX</td>\n",
       "      <td>Both</td>\n",
       "      <td>...</td>\n",
       "      <td>-4.88</td>\n",
       "      <td>-0.5318</td>\n",
       "      <td>0.0367</td>\n",
       "      <td>TWC</td>\n",
       "      <td>Three-way catalyst</td>\n",
       "      <td>N</td>\n",
       "      <td>NaN</td>\n",
       "      <td>NaN</td>\n",
       "      <td>N</td>\n",
       "      <td>No averaging</td>\n",
       "    </tr>\n",
       "    <tr>\n",
       "      <th>3</th>\n",
       "      <td>2024</td>\n",
       "      <td>aston martin</td>\n",
       "      <td>ASX</td>\n",
       "      <td>Aston Martin</td>\n",
       "      <td>DBX</td>\n",
       "      <td>8001PT8342</td>\n",
       "      <td>1</td>\n",
       "      <td>4.0</td>\n",
       "      <td>MASXJ04.0AEX</td>\n",
       "      <td>Both</td>\n",
       "      <td>...</td>\n",
       "      <td>-4.88</td>\n",
       "      <td>-0.5318</td>\n",
       "      <td>0.0367</td>\n",
       "      <td>TWC</td>\n",
       "      <td>Three-way catalyst</td>\n",
       "      <td>N</td>\n",
       "      <td>NaN</td>\n",
       "      <td>NaN</td>\n",
       "      <td>N</td>\n",
       "      <td>No averaging</td>\n",
       "    </tr>\n",
       "    <tr>\n",
       "      <th>4</th>\n",
       "      <td>2024</td>\n",
       "      <td>aston martin</td>\n",
       "      <td>ASX</td>\n",
       "      <td>Aston Martin</td>\n",
       "      <td>DBX 707</td>\n",
       "      <td>8841PT8473</td>\n",
       "      <td>0</td>\n",
       "      <td>4.0</td>\n",
       "      <td>PASXJ04.0AEX</td>\n",
       "      <td>Both</td>\n",
       "      <td>...</td>\n",
       "      <td>-4.88</td>\n",
       "      <td>-0.5318</td>\n",
       "      <td>0.0367</td>\n",
       "      <td>TWC</td>\n",
       "      <td>Three-way catalyst</td>\n",
       "      <td>N</td>\n",
       "      <td>NaN</td>\n",
       "      <td>NaN</td>\n",
       "      <td>N</td>\n",
       "      <td>No averaging</td>\n",
       "    </tr>\n",
       "  </tbody>\n",
       "</table>\n",
       "<p>5 rows × 67 columns</p>\n",
       "</div>"
      ],
      "text/plain": [
       "   model_year vehicle_manufacturer_name veh_mfr_code  \\\n",
       "0        2024              aston martin          ASX   \n",
       "1        2024              aston martin          ASX   \n",
       "2        2024              aston martin          ASX   \n",
       "3        2024              aston martin          ASX   \n",
       "4        2024              aston martin          ASX   \n",
       "\n",
       "  represented_test_veh_make represented_test_veh_model test_vehicle_id  \\\n",
       "0              Aston Martin                    DB12 V8      5723PT5601   \n",
       "1              Aston Martin                    DB12 V8      5723PT5601   \n",
       "2              Aston Martin                        DBX      8001PT8342   \n",
       "3              Aston Martin                        DBX      8001PT8342   \n",
       "4              Aston Martin                    DBX 707      8841PT8473   \n",
       "\n",
       "   test_veh_configuration_  test_veh_displacement_l actual_tested_testgroup  \\\n",
       "0                        0                      4.0            RASXV04.0AES   \n",
       "1                        0                      4.0            RASXV04.0AES   \n",
       "2                        1                      4.0            MASXJ04.0AEX   \n",
       "3                        1                      4.0            MASXJ04.0AEX   \n",
       "4                        0                      4.0            PASXJ04.0AEX   \n",
       "\n",
       "  vehicle_type  ...  set_coef_a_lbf  set_coef_b_lbfmph set_coef_c_lbfmph2  \\\n",
       "0          Car  ...            5.67             0.0083             0.0221   \n",
       "1          Car  ...            5.67             0.0083             0.0221   \n",
       "2         Both  ...           -4.88            -0.5318             0.0367   \n",
       "3         Both  ...           -4.88            -0.5318             0.0367   \n",
       "4         Both  ...           -4.88            -0.5318             0.0367   \n",
       "\n",
       "  aftertreatment_device_cd aftertreatment_device_desc  \\\n",
       "0                      TWC         Three-way catalyst   \n",
       "1                      TWC         Three-way catalyst   \n",
       "2                      TWC         Three-way catalyst   \n",
       "3                      TWC         Three-way catalyst   \n",
       "4                      TWC         Three-way catalyst   \n",
       "\n",
       "   police__emergency_vehicle averaging_group_id averaging_weighting_factor  \\\n",
       "0                          N                NaN                        NaN   \n",
       "1                          N                NaN                        NaN   \n",
       "2                          N                NaN                        NaN   \n",
       "3                          N                NaN                        NaN   \n",
       "4                          N                NaN                        NaN   \n",
       "\n",
       "  averaging_method_cd  averging_method_desc  \n",
       "0                   N          No averaging  \n",
       "1                   N          No averaging  \n",
       "2                   N          No averaging  \n",
       "3                   N          No averaging  \n",
       "4                   N          No averaging  \n",
       "\n",
       "[5 rows x 67 columns]"
      ]
     },
     "execution_count": 90,
     "metadata": {},
     "output_type": "execute_result"
    }
   ],
   "source": [
    "df.head()"
   ]
  },
  {
   "cell_type": "code",
   "execution_count": 91,
   "metadata": {
    "scrolled": true
   },
   "outputs": [],
   "source": [
    "ohe_data = pd.get_dummies(df, columns = ['represented_test_veh_make','vehicle_type','tested_transmission_type', 'drive_system_code',\n",
    "        'test_fuel_type_description'], dtype = int)"
   ]
  },
  {
   "cell_type": "code",
   "execution_count": 92,
   "metadata": {},
   "outputs": [
    {
     "data": {
      "text/html": [
       "<div>\n",
       "<style scoped>\n",
       "    .dataframe tbody tr th:only-of-type {\n",
       "        vertical-align: middle;\n",
       "    }\n",
       "\n",
       "    .dataframe tbody tr th {\n",
       "        vertical-align: top;\n",
       "    }\n",
       "\n",
       "    .dataframe thead th {\n",
       "        text-align: right;\n",
       "    }\n",
       "</style>\n",
       "<table border=\"1\" class=\"dataframe\">\n",
       "  <thead>\n",
       "    <tr style=\"text-align: right;\">\n",
       "      <th></th>\n",
       "      <th>model_year</th>\n",
       "      <th>vehicle_manufacturer_name</th>\n",
       "      <th>veh_mfr_code</th>\n",
       "      <th>represented_test_veh_model</th>\n",
       "      <th>test_vehicle_id</th>\n",
       "      <th>test_veh_configuration_</th>\n",
       "      <th>test_veh_displacement_l</th>\n",
       "      <th>actual_tested_testgroup</th>\n",
       "      <th>rated_horsepower</th>\n",
       "      <th>_of_cylinders_and_rotors</th>\n",
       "      <th>...</th>\n",
       "      <th>drive_system_code_P</th>\n",
       "      <th>drive_system_code_R</th>\n",
       "      <th>test_fuel_type_description_Cold CO Premium (Tier 2)</th>\n",
       "      <th>test_fuel_type_description_Cold CO Regular (Tier 2)</th>\n",
       "      <th>test_fuel_type_description_E85 (85% Ethanol 15% EPA Unleaded Gasoline)</th>\n",
       "      <th>test_fuel_type_description_Electricity</th>\n",
       "      <th>test_fuel_type_description_Federal Cert Diesel 7-15 PPM Sulfur</th>\n",
       "      <th>test_fuel_type_description_Hydrogen 5</th>\n",
       "      <th>test_fuel_type_description_Tier 2 Cert Gasoline</th>\n",
       "      <th>test_fuel_type_description_Tier 3 E10 Premium Gasoline (9 RVP @Low Alt.)</th>\n",
       "    </tr>\n",
       "  </thead>\n",
       "  <tbody>\n",
       "    <tr>\n",
       "      <th>0</th>\n",
       "      <td>2024</td>\n",
       "      <td>aston martin</td>\n",
       "      <td>ASX</td>\n",
       "      <td>DB12 V8</td>\n",
       "      <td>5723PT5601</td>\n",
       "      <td>0</td>\n",
       "      <td>4.0</td>\n",
       "      <td>RASXV04.0AES</td>\n",
       "      <td>680</td>\n",
       "      <td>8.0</td>\n",
       "      <td>...</td>\n",
       "      <td>0</td>\n",
       "      <td>1</td>\n",
       "      <td>0</td>\n",
       "      <td>0</td>\n",
       "      <td>0</td>\n",
       "      <td>0</td>\n",
       "      <td>0</td>\n",
       "      <td>0</td>\n",
       "      <td>1</td>\n",
       "      <td>0</td>\n",
       "    </tr>\n",
       "    <tr>\n",
       "      <th>1</th>\n",
       "      <td>2024</td>\n",
       "      <td>aston martin</td>\n",
       "      <td>ASX</td>\n",
       "      <td>DB12 V8</td>\n",
       "      <td>5723PT5601</td>\n",
       "      <td>0</td>\n",
       "      <td>4.0</td>\n",
       "      <td>RASXV04.0AES</td>\n",
       "      <td>680</td>\n",
       "      <td>8.0</td>\n",
       "      <td>...</td>\n",
       "      <td>0</td>\n",
       "      <td>1</td>\n",
       "      <td>0</td>\n",
       "      <td>0</td>\n",
       "      <td>0</td>\n",
       "      <td>0</td>\n",
       "      <td>0</td>\n",
       "      <td>0</td>\n",
       "      <td>1</td>\n",
       "      <td>0</td>\n",
       "    </tr>\n",
       "    <tr>\n",
       "      <th>2</th>\n",
       "      <td>2024</td>\n",
       "      <td>aston martin</td>\n",
       "      <td>ASX</td>\n",
       "      <td>DBX</td>\n",
       "      <td>8001PT8342</td>\n",
       "      <td>1</td>\n",
       "      <td>4.0</td>\n",
       "      <td>MASXJ04.0AEX</td>\n",
       "      <td>550</td>\n",
       "      <td>8.0</td>\n",
       "      <td>...</td>\n",
       "      <td>0</td>\n",
       "      <td>0</td>\n",
       "      <td>0</td>\n",
       "      <td>0</td>\n",
       "      <td>0</td>\n",
       "      <td>0</td>\n",
       "      <td>0</td>\n",
       "      <td>0</td>\n",
       "      <td>1</td>\n",
       "      <td>0</td>\n",
       "    </tr>\n",
       "    <tr>\n",
       "      <th>3</th>\n",
       "      <td>2024</td>\n",
       "      <td>aston martin</td>\n",
       "      <td>ASX</td>\n",
       "      <td>DBX</td>\n",
       "      <td>8001PT8342</td>\n",
       "      <td>1</td>\n",
       "      <td>4.0</td>\n",
       "      <td>MASXJ04.0AEX</td>\n",
       "      <td>550</td>\n",
       "      <td>8.0</td>\n",
       "      <td>...</td>\n",
       "      <td>0</td>\n",
       "      <td>0</td>\n",
       "      <td>0</td>\n",
       "      <td>0</td>\n",
       "      <td>0</td>\n",
       "      <td>0</td>\n",
       "      <td>0</td>\n",
       "      <td>0</td>\n",
       "      <td>1</td>\n",
       "      <td>0</td>\n",
       "    </tr>\n",
       "    <tr>\n",
       "      <th>4</th>\n",
       "      <td>2024</td>\n",
       "      <td>aston martin</td>\n",
       "      <td>ASX</td>\n",
       "      <td>DBX 707</td>\n",
       "      <td>8841PT8473</td>\n",
       "      <td>0</td>\n",
       "      <td>4.0</td>\n",
       "      <td>PASXJ04.0AEX</td>\n",
       "      <td>707</td>\n",
       "      <td>8.0</td>\n",
       "      <td>...</td>\n",
       "      <td>0</td>\n",
       "      <td>0</td>\n",
       "      <td>0</td>\n",
       "      <td>0</td>\n",
       "      <td>0</td>\n",
       "      <td>0</td>\n",
       "      <td>0</td>\n",
       "      <td>0</td>\n",
       "      <td>1</td>\n",
       "      <td>0</td>\n",
       "    </tr>\n",
       "  </tbody>\n",
       "</table>\n",
       "<p>5 rows × 139 columns</p>\n",
       "</div>"
      ],
      "text/plain": [
       "   model_year vehicle_manufacturer_name veh_mfr_code  \\\n",
       "0        2024              aston martin          ASX   \n",
       "1        2024              aston martin          ASX   \n",
       "2        2024              aston martin          ASX   \n",
       "3        2024              aston martin          ASX   \n",
       "4        2024              aston martin          ASX   \n",
       "\n",
       "  represented_test_veh_model test_vehicle_id  test_veh_configuration_  \\\n",
       "0                    DB12 V8      5723PT5601                        0   \n",
       "1                    DB12 V8      5723PT5601                        0   \n",
       "2                        DBX      8001PT8342                        1   \n",
       "3                        DBX      8001PT8342                        1   \n",
       "4                    DBX 707      8841PT8473                        0   \n",
       "\n",
       "   test_veh_displacement_l actual_tested_testgroup  rated_horsepower  \\\n",
       "0                      4.0            RASXV04.0AES               680   \n",
       "1                      4.0            RASXV04.0AES               680   \n",
       "2                      4.0            MASXJ04.0AEX               550   \n",
       "3                      4.0            MASXJ04.0AEX               550   \n",
       "4                      4.0            PASXJ04.0AEX               707   \n",
       "\n",
       "   _of_cylinders_and_rotors  ... drive_system_code_P drive_system_code_R  \\\n",
       "0                       8.0  ...                   0                   1   \n",
       "1                       8.0  ...                   0                   1   \n",
       "2                       8.0  ...                   0                   0   \n",
       "3                       8.0  ...                   0                   0   \n",
       "4                       8.0  ...                   0                   0   \n",
       "\n",
       "   test_fuel_type_description_Cold CO Premium (Tier 2)  \\\n",
       "0                                                  0     \n",
       "1                                                  0     \n",
       "2                                                  0     \n",
       "3                                                  0     \n",
       "4                                                  0     \n",
       "\n",
       "  test_fuel_type_description_Cold CO Regular (Tier 2)  \\\n",
       "0                                                  0    \n",
       "1                                                  0    \n",
       "2                                                  0    \n",
       "3                                                  0    \n",
       "4                                                  0    \n",
       "\n",
       "  test_fuel_type_description_E85 (85% Ethanol 15% EPA Unleaded Gasoline)  \\\n",
       "0                                                  0                       \n",
       "1                                                  0                       \n",
       "2                                                  0                       \n",
       "3                                                  0                       \n",
       "4                                                  0                       \n",
       "\n",
       "   test_fuel_type_description_Electricity  \\\n",
       "0                                       0   \n",
       "1                                       0   \n",
       "2                                       0   \n",
       "3                                       0   \n",
       "4                                       0   \n",
       "\n",
       "  test_fuel_type_description_Federal Cert Diesel 7-15 PPM Sulfur  \\\n",
       "0                                                  0               \n",
       "1                                                  0               \n",
       "2                                                  0               \n",
       "3                                                  0               \n",
       "4                                                  0               \n",
       "\n",
       "   test_fuel_type_description_Hydrogen 5  \\\n",
       "0                                      0   \n",
       "1                                      0   \n",
       "2                                      0   \n",
       "3                                      0   \n",
       "4                                      0   \n",
       "\n",
       "   test_fuel_type_description_Tier 2 Cert Gasoline  \\\n",
       "0                                                1   \n",
       "1                                                1   \n",
       "2                                                1   \n",
       "3                                                1   \n",
       "4                                                1   \n",
       "\n",
       "   test_fuel_type_description_Tier 3 E10 Premium Gasoline (9 RVP @Low Alt.)  \n",
       "0                                                  0                         \n",
       "1                                                  0                         \n",
       "2                                                  0                         \n",
       "3                                                  0                         \n",
       "4                                                  0                         \n",
       "\n",
       "[5 rows x 139 columns]"
      ]
     },
     "execution_count": 92,
     "metadata": {},
     "output_type": "execute_result"
    }
   ],
   "source": [
    "ohe_data.head()"
   ]
  },
  {
   "cell_type": "code",
   "execution_count": 93,
   "metadata": {},
   "outputs": [
    {
     "data": {
      "text/plain": [
       "Index(['model_year', 'vehicle_manufacturer_name', 'veh_mfr_code',\n",
       "       'represented_test_veh_model', 'test_vehicle_id',\n",
       "       'test_veh_configuration_', 'test_veh_displacement_l',\n",
       "       'actual_tested_testgroup', 'rated_horsepower',\n",
       "       '_of_cylinders_and_rotors',\n",
       "       ...\n",
       "       'drive_system_code_P', 'drive_system_code_R',\n",
       "       'test_fuel_type_description_Cold CO Premium (Tier 2)',\n",
       "       'test_fuel_type_description_Cold CO Regular (Tier 2)',\n",
       "       'test_fuel_type_description_E85 (85% Ethanol 15% EPA Unleaded Gasoline)',\n",
       "       'test_fuel_type_description_Electricity',\n",
       "       'test_fuel_type_description_Federal Cert Diesel 7-15 PPM Sulfur',\n",
       "       'test_fuel_type_description_Hydrogen 5',\n",
       "       'test_fuel_type_description_Tier 2 Cert Gasoline',\n",
       "       'test_fuel_type_description_Tier 3 E10 Premium Gasoline (9 RVP @Low Alt.)'],\n",
       "      dtype='object', length=139)"
      ]
     },
     "execution_count": 93,
     "metadata": {},
     "output_type": "execute_result"
    }
   ],
   "source": [
    "ohe_data.columns"
   ]
  },
  {
   "cell_type": "code",
   "execution_count": 94,
   "metadata": {
    "scrolled": true
   },
   "outputs": [],
   "source": [
    "ohe_data.columns = ohe_data.columns.str.lower().str.replace(' ','_', regex=True) # replace all spaces with '_'\n",
    "ohe_data.columns = ohe_data.columns.str.lower().str.replace('[^\\w]','', regex=True) # then remove all spacial characters"
   ]
  },
  {
   "cell_type": "code",
   "execution_count": 95,
   "metadata": {},
   "outputs": [
    {
     "name": "stdout",
     "output_type": "stream",
     "text": [
      "Index(['model_year', 'vehicle_manufacturer_name', 'veh_mfr_code',\n",
      "       'represented_test_veh_model', 'test_vehicle_id',\n",
      "       'test_veh_configuration_', 'test_veh_displacement_l',\n",
      "       'actual_tested_testgroup', 'rated_horsepower',\n",
      "       '_of_cylinders_and_rotors',\n",
      "       ...\n",
      "       'drive_system_code_p', 'drive_system_code_r',\n",
      "       'test_fuel_type_description_cold_co_premium_tier_2',\n",
      "       'test_fuel_type_description_cold_co_regular_tier_2',\n",
      "       'test_fuel_type_description_e85_85_ethanol_15_epa_unleaded_gasoline',\n",
      "       'test_fuel_type_description_electricity',\n",
      "       'test_fuel_type_description_federal_cert_diesel_715_ppm_sulfur',\n",
      "       'test_fuel_type_description_hydrogen_5',\n",
      "       'test_fuel_type_description_tier_2_cert_gasoline',\n",
      "       'test_fuel_type_description_tier_3_e10_premium_gasoline_9_rvp_low_alt'],\n",
      "      dtype='object', length=139)\n"
     ]
    }
   ],
   "source": [
    "print(ohe_data.columns)"
   ]
  },
  {
   "cell_type": "markdown",
   "metadata": {},
   "source": [
    "# Exploratory data analysis"
   ]
  },
  {
   "cell_type": "code",
   "execution_count": 96,
   "metadata": {},
   "outputs": [
    {
     "name": "stderr",
     "output_type": "stream",
     "text": [
      "C:\\Users\\vanel\\anaconda3\\envs\\MachineLearning\\lib\\site-packages\\seaborn\\_oldcore.py:1119: FutureWarning: use_inf_as_na option is deprecated and will be removed in a future version. Convert inf values to NaN before operating instead.\n",
      "  with pd.option_context('mode.use_inf_as_na', True):\n"
     ]
    },
    {
     "data": {
      "image/png": "[encoded data removed]",
      "text/plain": [
       "<Figure size 600x400 with 1 Axes>"
      ]
     },
     "metadata": {},
     "output_type": "display_data"
    }
   ],
   "source": [
    "# Let us look at the distribution of values in the target output Y which is CO\n",
    "plt.figure(figsize=(6, 4))\n",
    "\n",
    "sns.histplot(ohe_data.co_gmi, bins=40, color='black', alpha=1)\n",
    "plt.ylabel('Frequency')\n",
    "plt.xlabel('CO(g/mi)')\n",
    "plt.title('Distribution of CO(g/mi)')\n",
    "\n",
    "plt.show()"
   ]
  },
  {
   "cell_type": "code",
   "execution_count": 97,
   "metadata": {},
   "outputs": [
    {
     "name": "stderr",
     "output_type": "stream",
     "text": [
      "C:\\Users\\vanel\\anaconda3\\envs\\MachineLearning\\lib\\site-packages\\seaborn\\_oldcore.py:1119: FutureWarning: use_inf_as_na option is deprecated and will be removed in a future version. Convert inf values to NaN before operating instead.\n",
      "  with pd.option_context('mode.use_inf_as_na', True):\n"
     ]
    },
    {
     "data": {
      "image/png": "[encoded data removed]",
      "text/plain": [
       "<Figure size 600x400 with 1 Axes>"
      ]
     },
     "metadata": {},
     "output_type": "display_data"
    }
   ],
   "source": [
    "# Let's see the distribution at the lower values of CO\n",
    "\n",
    "plt.figure(figsize=(6, 4))\n",
    "\n",
    "sns.histplot(ohe_data.co_gmi[df.co_gmi < 2], bins=40, color='black', alpha=1)\n",
    "plt.ylabel('Frequency')\n",
    "plt.xlabel('CO(g/mi)')\n",
    "plt.title('Distribution of CO(g/mi)')\n",
    "\n",
    "plt.show()"
   ]
  },
  {
   "cell_type": "code",
   "execution_count": 98,
   "metadata": {},
   "outputs": [
    {
     "name": "stderr",
     "output_type": "stream",
     "text": [
      "C:\\Users\\vanel\\anaconda3\\envs\\MachineLearning\\lib\\site-packages\\seaborn\\_oldcore.py:1119: FutureWarning: use_inf_as_na option is deprecated and will be removed in a future version. Convert inf values to NaN before operating instead.\n",
      "  with pd.option_context('mode.use_inf_as_na', True):\n"
     ]
    },
    {
     "data": {
      "image/png": "[encoded data removed]",
      "text/plain": [
       "<Figure size 600x400 with 1 Axes>"
      ]
     },
     "metadata": {},
     "output_type": "display_data"
    }
   ],
   "source": [
    "log_co = np.log1p(ohe_data.co_gmi)\n",
    "\n",
    "plt.figure(figsize=(6, 4))\n",
    "\n",
    "sns.histplot(log_co, bins=40, color='black', alpha=1)\n",
    "plt.ylabel('Frequency')\n",
    "plt.xlabel('Log(CO + 1)')\n",
    "plt.title('Distribution of CO levels after log tranformation')\n",
    "\n",
    "plt.show()\n",
    "\n",
    "# Based on the graph below, log-transformation does not signficantly change the look of CO distribution, \n",
    "# so log-transform on CO will not have significant improvement effect on the eventual model"
   ]
  },
  {
   "cell_type": "code",
   "execution_count": 99,
   "metadata": {},
   "outputs": [
    {
     "data": {
      "text/plain": [
       "model_year                                                              0\n",
       "vehicle_manufacturer_name                                               0\n",
       "veh_mfr_code                                                            0\n",
       "represented_test_veh_model                                              0\n",
       "test_vehicle_id                                                         0\n",
       "                                                                       ..\n",
       "test_fuel_type_description_electricity                                  0\n",
       "test_fuel_type_description_federal_cert_diesel_715_ppm_sulfur           0\n",
       "test_fuel_type_description_hydrogen_5                                   0\n",
       "test_fuel_type_description_tier_2_cert_gasoline                         0\n",
       "test_fuel_type_description_tier_3_e10_premium_gasoline_9_rvp_low_alt    0\n",
       "Length: 139, dtype: int64"
      ]
     },
     "execution_count": 99,
     "metadata": {},
     "output_type": "execute_result"
    }
   ],
   "source": [
    "# Check for NULL or NA, or NaN values in each column in the dataset \n",
    "ohe_data.isnull().sum()"
   ]
  },
  {
   "cell_type": "markdown",
   "metadata": {},
   "source": [
    "## Validation framework"
   ]
  },
  {
   "cell_type": "code",
   "execution_count": 100,
   "metadata": {},
   "outputs": [],
   "source": [
    "# Set random number seed for reproducility of results by other users of the notebook\n",
    "np.random.seed(2)\n",
    "\n",
    "\n",
    "# Since the target var CO cannot have NULL values, let's remove the rows (data-points) that have CO=NULL or NaN or NA\n",
    "# We have to do this before we perform the succeeding steps of splitting the dataset\n",
    "\n",
    "df = df.dropna(subset = ['co_gmi'])\n",
    "\n",
    "# Now splitting the dataset using 20% for Test set and the remianing 80% for Train+Val set\n",
    "n = len(df)\n",
    "\n",
    "n_val = int(0.2 * n)\n",
    "n_test = int(0.2 * n)\n",
    "n_train = n - (n_val + n_test)\n",
    "\n",
    "idx = np.arange(n)\n",
    "np.random.shuffle(idx)\n",
    "\n",
    "df_shuffled = df.iloc[idx]\n",
    "\n",
    "df_train = df_shuffled.iloc[:n_train].copy()\n",
    "df_val = df_shuffled.iloc[n_train:n_train+n_val].copy()\n",
    "df_test = df_shuffled.iloc[n_train+n_val:].copy()\n",
    "\n"
   ]
  },
  {
   "cell_type": "markdown",
   "metadata": {},
   "source": [
    "#### Potential Questions at this stage for Exam 1:\n",
    "1. How many data samples are there in the Test set?\n",
    "2. How many data samples are there in the Train set?\n",
    "3. How many data samples are there in the Validation set?\n",
    "\n",
    "Use Python function to compute the answers to the questions above."
   ]
  },
  {
   "cell_type": "code",
   "execution_count": 101,
   "metadata": {},
   "outputs": [],
   "source": [
    "# Note: The target Y for your Project 1 is CO (g/mi)\n",
    "\n",
    "y_train_orig = df_train.co_gmi.values\n",
    "y_val_orig = df_val.co_gmi.values\n",
    "y_test_orig = df_test.co_gmi.values\n",
    "\n",
    "# no need for log-transform as shown above, so we just equate the vars\n",
    "y_train = y_train_orig\n",
    "y_val = y_val_orig\n",
    "y_test = y_test_orig\n",
    "\n",
    "# since CO is a Y variable, then delete it from the pool of potential X variables\n",
    "del df_train['co_gmi']\n",
    "del df_val['co_gmi']\n",
    "del df_test['co_gmi']"
   ]
  },
  {
   "cell_type": "markdown",
   "metadata": {},
   "source": [
    "## Linear Regression"
   ]
  },
  {
   "cell_type": "code",
   "execution_count": 102,
   "metadata": {},
   "outputs": [],
   "source": [
    "# This is the linear regression algorithm (closed-form formula to compute the linear model coefficients)\n",
    "\n",
    "def train_linear_regression(X, y):\n",
    "    ones = np.ones(X.shape[0])\n",
    "    X = np.column_stack([ones, X])\n",
    "\n",
    "    XTX = X.T.dot(X)\n",
    "    XTX_inv = np.linalg.inv(XTX)\n",
    "    w = XTX_inv.dot(X.T).dot(y)\n",
    "    \n",
    "    return w[0], w[1:]"
   ]
  },
  {
   "cell_type": "markdown",
   "metadata": {},
   "source": [
    "## Baseline solution"
   ]
  },
  {
   "cell_type": "code",
   "execution_count": 103,
   "metadata": {},
   "outputs": [],
   "source": [
    "# This is where you select your predictor variables or X variables.\n",
    "# Remember your project constraint: use at least 10 X varibales (except CO(g/mi) or course), and at least 1 X-var is a categorical var\n",
    "# How to know which X-var to select? Check the PDF document of Variable Definition, which is also uploaded in Moodle under Project 1\n",
    "#\n",
    "\n",
    "base = ['rated_horsepower', '_of_cylinders_and_rotors', '_of_gears',\n",
    "       'equivalent_test_weight_lbs', 'axle_ratio', 'nv_ratio', \n",
    "       ]\n",
    "       "
   ]
  },
  {
   "cell_type": "code",
   "execution_count": 104,
   "metadata": {},
   "outputs": [],
   "source": [
    "def prepare1_X(df):\n",
    "    df_num = df[base]\n",
    "    df_num = df_num.fillna(0)\n",
    "    X = df_num.values\n",
    "    return X"
   ]
  },
  {
   "cell_type": "code",
   "execution_count": 105,
   "metadata": {
    "scrolled": false
   },
   "outputs": [],
   "source": [
    "X_train = prepare1_X(df_train)\n",
    "w_0, w = train_linear_regression(X_train, y_train)"
   ]
  },
  {
   "cell_type": "code",
   "execution_count": 106,
   "metadata": {},
   "outputs": [
    {
     "data": {
      "text/plain": [
       "array([1.10638  , 0.0361   , 0.0312183, ..., 0.749987 , 0.152    ,\n",
       "       0.052334 ])"
      ]
     },
     "execution_count": 106,
     "metadata": {},
     "output_type": "execute_result"
    }
   ],
   "source": [
    "y_train"
   ]
  },
  {
   "cell_type": "code",
   "execution_count": 107,
   "metadata": {},
   "outputs": [
    {
     "data": {
      "text/plain": [
       "-0.46155005139316596"
      ]
     },
     "execution_count": 107,
     "metadata": {},
     "output_type": "execute_result"
    }
   ],
   "source": [
    "w_0"
   ]
  },
  {
   "cell_type": "code",
   "execution_count": 108,
   "metadata": {},
   "outputs": [
    {
     "data": {
      "text/plain": [
       "array([-8.11649845e-05,  6.37485971e-03,  1.32028236e-02,  8.45552066e-05,\n",
       "        1.02341455e-01, -2.55639486e-03])"
      ]
     },
     "execution_count": 108,
     "metadata": {},
     "output_type": "execute_result"
    }
   ],
   "source": [
    "w"
   ]
  },
  {
   "cell_type": "code",
   "execution_count": 109,
   "metadata": {},
   "outputs": [],
   "source": [
    "y_pred = w_0 + X_train.dot(w)"
   ]
  },
  {
   "cell_type": "code",
   "execution_count": 110,
   "metadata": {},
   "outputs": [
    {
     "name": "stderr",
     "output_type": "stream",
     "text": [
      "C:\\Users\\vanel\\anaconda3\\envs\\MachineLearning\\lib\\site-packages\\seaborn\\_oldcore.py:1119: FutureWarning: use_inf_as_na option is deprecated and will be removed in a future version. Convert inf values to NaN before operating instead.\n",
      "  with pd.option_context('mode.use_inf_as_na', True):\n",
      "C:\\Users\\vanel\\anaconda3\\envs\\MachineLearning\\lib\\site-packages\\seaborn\\_oldcore.py:1119: FutureWarning: use_inf_as_na option is deprecated and will be removed in a future version. Convert inf values to NaN before operating instead.\n",
      "  with pd.option_context('mode.use_inf_as_na', True):\n"
     ]
    },
    {
     "data": {
      "image/png": "[encoded data removed]",
      "text/plain": [
       "<Figure size 600x400 with 1 Axes>"
      ]
     },
     "metadata": {},
     "output_type": "display_data"
    }
   ],
   "source": [
    "plt.figure(figsize=(6, 4))\n",
    "\n",
    "sns.histplot(y_train, label='target', color='#222222', alpha=0.6, bins=40)\n",
    "sns.histplot(y_pred, label='prediction', color='#aaaaaa', alpha=0.8, bins=40)\n",
    "\n",
    "plt.legend()\n",
    "\n",
    "plt.ylabel('Frequency')\n",
    "plt.xlabel('Log(Price + 1)')\n",
    "plt.title('Predictions vs actual distribution')\n",
    "\n",
    "plt.show()"
   ]
  },
  {
   "cell_type": "code",
   "execution_count": 111,
   "metadata": {},
   "outputs": [],
   "source": [
    "def rmse(y, y_pred):\n",
    "    error = y_pred - y\n",
    "    mse = (error ** 2).mean()\n",
    "    return np.sqrt(mse)"
   ]
  },
  {
   "cell_type": "code",
   "execution_count": 112,
   "metadata": {},
   "outputs": [
    {
     "data": {
      "text/plain": [
       "0.43685368585799783"
      ]
     },
     "execution_count": 112,
     "metadata": {},
     "output_type": "execute_result"
    }
   ],
   "source": [
    "rmse(y_train, y_pred)"
   ]
  },
  {
   "cell_type": "code",
   "execution_count": 113,
   "metadata": {},
   "outputs": [],
   "source": [
    "X_val = prepare1_X(df_val)\n",
    "y_pred = w_0 + X_val.dot(w)"
   ]
  },
  {
   "cell_type": "code",
   "execution_count": 114,
   "metadata": {
    "scrolled": true
   },
   "outputs": [
    {
     "data": {
      "text/plain": [
       "0.47003656606454347"
      ]
     },
     "execution_count": 114,
     "metadata": {},
     "output_type": "execute_result"
    }
   ],
   "source": [
    "rmse(y_val, y_pred)"
   ]
  },
  {
   "cell_type": "markdown",
   "metadata": {},
   "source": [
    "## Simple feature engineering\n",
    "Let use now include the 1 Categorical variable into the model as an X var.\n",
    "I chose for this demo the variable VEHICLE TYPE with column name 'vehicle_type'. This is a categorical data, so we have to convert this to numeric data.\n",
    "To convert to numeric, we use the \"One-Hot Encoding\" technique."
   ]
  },
  {
   "cell_type": "code",
   "execution_count": 115,
   "metadata": {
    "scrolled": true
   },
   "outputs": [
    {
     "data": {
      "text/plain": [
       "vehicle_type\n",
       "Truck    1100\n",
       "Car      1018\n",
       "Both      530\n",
       "Name: count, dtype: int64"
      ]
     },
     "execution_count": 115,
     "metadata": {},
     "output_type": "execute_result"
    }
   ],
   "source": [
    "df['vehicle_type'].value_counts().head(5)\n"
   ]
  },
  {
   "cell_type": "code",
   "execution_count": 116,
   "metadata": {},
   "outputs": [
    {
     "data": {
      "text/plain": [
       "drive_system_code\n",
       "F    1093\n",
       "A     632\n",
       "R     601\n",
       "4     318\n",
       "P       4\n",
       "Name: count, dtype: int64"
      ]
     },
     "execution_count": 116,
     "metadata": {},
     "output_type": "execute_result"
    }
   ],
   "source": [
    "df['drive_system_code'].value_counts()"
   ]
  },
  {
   "cell_type": "code",
   "execution_count": 117,
   "metadata": {
    "scrolled": false
   },
   "outputs": [
    {
     "data": {
      "text/plain": [
       "tested_transmission_type_code\n",
       "SA     950\n",
       "A      643\n",
       "CVT    380\n",
       "AMS    318\n",
       "SCV    157\n",
       "M      136\n",
       "AM      64\n",
       "Name: count, dtype: int64"
      ]
     },
     "execution_count": 117,
     "metadata": {},
     "output_type": "execute_result"
    }
   ],
   "source": [
    "df['tested_transmission_type_code'].value_counts()"
   ]
  },
  {
   "cell_type": "code",
   "execution_count": 118,
   "metadata": {},
   "outputs": [
    {
     "data": {
      "text/plain": [
       "test_fuel_type_cd\n",
       "61    2398\n",
       "26     121\n",
       "19      72\n",
       "27      51\n",
       "38       6\n",
       "Name: count, dtype: int64"
      ]
     },
     "execution_count": 118,
     "metadata": {},
     "output_type": "execute_result"
    }
   ],
   "source": [
    "df['test_fuel_type_cd'].value_counts()"
   ]
  },
  {
   "cell_type": "markdown",
   "metadata": {},
   "source": [
    "You see above that 'vehicle_type' has 3 levels or categories: Truck, Car, Both.\n",
    "Let us use these levels for One-Hot Encoding.\n",
    "\n",
    "Also, I will give a different name to this preparation function so it is not confused with baseline prepare1_X() function above."
   ]
  },
  {
   "cell_type": "code",
   "execution_count": 119,
   "metadata": {},
   "outputs": [],
   "source": [
    "def prepare2_X(df):  #vehicle type\n",
    "    df = df.copy()\n",
    "    features = base.copy()\n",
    "\n",
    "    for v in ['Truck', 'Car', 'Both']:\n",
    "        feature = 'is_type_%s' % v\n",
    "        df[feature] = (df['vehicle_type'] == v).astype(int)\n",
    "        features.append(feature)\n",
    "\n",
    "    df_num = df[features]\n",
    "    df_num = df_num.fillna(0)\n",
    "    X = df_num.values\n",
    "    return X"
   ]
  },
  {
   "cell_type": "code",
   "execution_count": 120,
   "metadata": {},
   "outputs": [],
   "source": [
    "def prepare3_X(df):  #drive system code\n",
    "    df = df.copy()\n",
    "    features = base.copy()\n",
    "\n",
    "    for v in ['F', 'A', 'R', '4', 'P']:\n",
    "        feature = 'is_type_%s' % v\n",
    "        df[feature] = (df['drive_system_code'] == v).astype(int)\n",
    "        features.append(feature)\n",
    "\n",
    "    df_num = df[features]\n",
    "    df_num = df_num.fillna(0)\n",
    "    X = df_num.values\n",
    "    return X"
   ]
  },
  {
   "cell_type": "code",
   "execution_count": 121,
   "metadata": {},
   "outputs": [],
   "source": [
    "def prepare4_X(df):  #transmission type\n",
    "    df = df.copy()\n",
    "    features = base.copy()\n",
    "\n",
    "    for v in ['SA','A','CVT','AMS','SCV','M','AM']:\n",
    "        feature = 'is_type_%s' % v\n",
    "        df[feature] = (df['tested_transmission_type'] == v).astype(int)\n",
    "        features.append(feature)\n",
    "\n",
    "    df_num = df[features]\n",
    "    df_num = df_num.fillna(0)\n",
    "    X = df_num.values\n",
    "    return X"
   ]
  },
  {
   "cell_type": "code",
   "execution_count": 122,
   "metadata": {},
   "outputs": [],
   "source": [
    "def prepare5_X(df):  #fuel type\n",
    "    df = df.copy()\n",
    "    features = base.copy()\n",
    "\n",
    "    for v in ['61','26','19','27','38']:\n",
    "        feature = 'is_type_%s' % v\n",
    "        df[feature] = (df['test_fuel_type_cd'] == v).astype(int)\n",
    "        features.append(feature)\n",
    "\n",
    "    df_num = df[features]\n",
    "    df_num = df_num.fillna(0)\n",
    "    X = df_num.values\n",
    "    return X"
   ]
  },
  {
   "cell_type": "code",
   "execution_count": 123,
   "metadata": {},
   "outputs": [],
   "source": [
    "# Running preparation\n",
    "X_train = prepare2_X(df_train)\n",
    "X_train = prepare3_X(df_train)\n",
    "X_train = prepare4_X(df_train)\n",
    "X_train = prepare5_X(df_train)\n",
    "\n"
   ]
  },
  {
   "cell_type": "code",
   "execution_count": 124,
   "metadata": {},
   "outputs": [
    {
     "data": {
      "text/plain": [
       "array([[305.,   6.,  10., ...,   0.,   0.,   0.],\n",
       "       [518.,   6.,   7., ...,   0.,   0.,   0.],\n",
       "       [270.,   4.,   9., ...,   0.,   0.,   0.],\n",
       "       ...,\n",
       "       [237.,   4.,   9., ...,   0.,   0.,   0.],\n",
       "       [146.,   4.,   1., ...,   0.,   0.,   0.],\n",
       "       [137.,   3.,   6., ...,   0.,   0.,   0.]])"
      ]
     },
     "execution_count": 124,
     "metadata": {},
     "output_type": "execute_result"
    }
   ],
   "source": [
    "# Chekcing if the one-hot encoding really worked\n",
    "# note: X_train is now a numpy array. The prepare2_X() function has 'X = df_num.values', \n",
    "# which outputs only the values and no column names attached. \n",
    "# The added on-hot coding columns are at the end of the numpy array.\n",
    "# Notice the numbers, 1 and 0, as indicators of presence and absence of the feature\n",
    "base\n",
    "X_train"
   ]
  },
  {
   "cell_type": "code",
   "execution_count": 125,
   "metadata": {},
   "outputs": [
    {
     "data": {
      "text/plain": [
       "(1590, 11)"
      ]
     },
     "execution_count": 125,
     "metadata": {},
     "output_type": "execute_result"
    }
   ],
   "source": [
    "# Verify that there are now seven X vars: 'test_veh_displacement_l', \n",
    "#                                            'rated_horsepower',\n",
    "#                                            'axle_ratio', \n",
    "#                                            'nv_ratio',\n",
    "#                                            'is_type_Trucks',\n",
    "#                                            'is_type_Cars',\n",
    "#                                            'is_type_Boths',\n",
    "\n",
    "X_train.shape"
   ]
  },
  {
   "cell_type": "markdown",
   "metadata": {},
   "source": [
    "## Training Another Linear Regression Model \n",
    "Now including the VEHICLE TYPE variable."
   ]
  },
  {
   "cell_type": "code",
   "execution_count": 126,
   "metadata": {},
   "outputs": [
    {
     "ename": "LinAlgError",
     "evalue": "Singular matrix",
     "output_type": "error",
     "traceback": [
      "\u001b[1;31m---------------------------------------------------------------------------\u001b[0m",
      "\u001b[1;31mLinAlgError\u001b[0m                               Traceback (most recent call last)",
      "Cell \u001b[1;32mIn[126], line 1\u001b[0m\n\u001b[1;32m----> 1\u001b[0m w_0, w \u001b[38;5;241m=\u001b[39m \u001b[43mtrain_linear_regression\u001b[49m\u001b[43m(\u001b[49m\u001b[43mX_train\u001b[49m\u001b[43m,\u001b[49m\u001b[43m \u001b[49m\u001b[43my_train\u001b[49m\u001b[43m)\u001b[49m\n\u001b[0;32m      3\u001b[0m y_pred \u001b[38;5;241m=\u001b[39m w_0 \u001b[38;5;241m+\u001b[39m X_train\u001b[38;5;241m.\u001b[39mdot(w)\n\u001b[0;32m      4\u001b[0m \u001b[38;5;28mprint\u001b[39m(\u001b[38;5;124m'\u001b[39m\u001b[38;5;124mtrain:\u001b[39m\u001b[38;5;124m'\u001b[39m, rmse(y_train, y_pred))\n",
      "Cell \u001b[1;32mIn[102], line 8\u001b[0m, in \u001b[0;36mtrain_linear_regression\u001b[1;34m(X, y)\u001b[0m\n\u001b[0;32m      5\u001b[0m X \u001b[38;5;241m=\u001b[39m np\u001b[38;5;241m.\u001b[39mcolumn_stack([ones, X])\n\u001b[0;32m      7\u001b[0m XTX \u001b[38;5;241m=\u001b[39m X\u001b[38;5;241m.\u001b[39mT\u001b[38;5;241m.\u001b[39mdot(X)\n\u001b[1;32m----> 8\u001b[0m XTX_inv \u001b[38;5;241m=\u001b[39m \u001b[43mnp\u001b[49m\u001b[38;5;241;43m.\u001b[39;49m\u001b[43mlinalg\u001b[49m\u001b[38;5;241;43m.\u001b[39;49m\u001b[43minv\u001b[49m\u001b[43m(\u001b[49m\u001b[43mXTX\u001b[49m\u001b[43m)\u001b[49m\n\u001b[0;32m      9\u001b[0m w \u001b[38;5;241m=\u001b[39m XTX_inv\u001b[38;5;241m.\u001b[39mdot(X\u001b[38;5;241m.\u001b[39mT)\u001b[38;5;241m.\u001b[39mdot(y)\n\u001b[0;32m     11\u001b[0m \u001b[38;5;28;01mreturn\u001b[39;00m w[\u001b[38;5;241m0\u001b[39m], w[\u001b[38;5;241m1\u001b[39m:]\n",
      "File \u001b[1;32m~\\anaconda3\\envs\\MachineLearning\\lib\\site-packages\\numpy\\linalg\\linalg.py:561\u001b[0m, in \u001b[0;36minv\u001b[1;34m(a)\u001b[0m\n\u001b[0;32m    559\u001b[0m signature \u001b[38;5;241m=\u001b[39m \u001b[38;5;124m'\u001b[39m\u001b[38;5;124mD->D\u001b[39m\u001b[38;5;124m'\u001b[39m \u001b[38;5;28;01mif\u001b[39;00m isComplexType(t) \u001b[38;5;28;01melse\u001b[39;00m \u001b[38;5;124m'\u001b[39m\u001b[38;5;124md->d\u001b[39m\u001b[38;5;124m'\u001b[39m\n\u001b[0;32m    560\u001b[0m extobj \u001b[38;5;241m=\u001b[39m get_linalg_error_extobj(_raise_linalgerror_singular)\n\u001b[1;32m--> 561\u001b[0m ainv \u001b[38;5;241m=\u001b[39m \u001b[43m_umath_linalg\u001b[49m\u001b[38;5;241;43m.\u001b[39;49m\u001b[43minv\u001b[49m\u001b[43m(\u001b[49m\u001b[43ma\u001b[49m\u001b[43m,\u001b[49m\u001b[43m \u001b[49m\u001b[43msignature\u001b[49m\u001b[38;5;241;43m=\u001b[39;49m\u001b[43msignature\u001b[49m\u001b[43m,\u001b[49m\u001b[43m \u001b[49m\u001b[43mextobj\u001b[49m\u001b[38;5;241;43m=\u001b[39;49m\u001b[43mextobj\u001b[49m\u001b[43m)\u001b[49m\n\u001b[0;32m    562\u001b[0m \u001b[38;5;28;01mreturn\u001b[39;00m wrap(ainv\u001b[38;5;241m.\u001b[39mastype(result_t, copy\u001b[38;5;241m=\u001b[39m\u001b[38;5;28;01mFalse\u001b[39;00m))\n",
      "File \u001b[1;32m~\\anaconda3\\envs\\MachineLearning\\lib\\site-packages\\numpy\\linalg\\linalg.py:112\u001b[0m, in \u001b[0;36m_raise_linalgerror_singular\u001b[1;34m(err, flag)\u001b[0m\n\u001b[0;32m    111\u001b[0m \u001b[38;5;28;01mdef\u001b[39;00m \u001b[38;5;21m_raise_linalgerror_singular\u001b[39m(err, flag):\n\u001b[1;32m--> 112\u001b[0m     \u001b[38;5;28;01mraise\u001b[39;00m LinAlgError(\u001b[38;5;124m\"\u001b[39m\u001b[38;5;124mSingular matrix\u001b[39m\u001b[38;5;124m\"\u001b[39m)\n",
      "\u001b[1;31mLinAlgError\u001b[0m: Singular matrix"
     ]
    }
   ],
   "source": [
    "\n",
    "w_0, w = train_linear_regression(X_train, y_train)\n",
    "\n",
    "y_pred = w_0 + X_train.dot(w)\n",
    "print('train:', rmse(y_train, y_pred))\n",
    "\n",
    "X_val = prepare2_X(df_val)\n",
    "y_pred = w_0 + X_val.dot(w)\n",
    "print('validation:', rmse(y_val, y_pred))"
   ]
  },
  {
   "cell_type": "markdown",
   "metadata": {},
   "source": [
    "#### Demo Remarks\n",
    "So, this is an illustration of how to adapt a template Jupyter Notebook to a new project and new dataset.\n",
    "\n",
    "This is what you do in your Porject 1. And of course you can use this notebook as your template.\n",
    "\n",
    "Make sure to continue in the next steps to include Regulatization in the model fitting."
   ]
  },
  {
   "cell_type": "code",
   "execution_count": null,
   "metadata": {},
   "outputs": [],
   "source": []
  },
  {
   "cell_type": "code",
   "execution_count": null,
   "metadata": {},
   "outputs": [],
   "source": []
  },
  {
   "cell_type": "code",
   "execution_count": null,
   "metadata": {},
   "outputs": [],
   "source": []
  },
  {
   "cell_type": "markdown",
   "metadata": {},
   "source": [
    "## Regularization"
   ]
  },
  {
   "cell_type": "code",
   "execution_count": null,
   "metadata": {},
   "outputs": [],
   "source": [
    "def train_linear_regression_reg(X, y, r=0.0):\n",
    "    ones = np.ones(X.shape[0])\n",
    "    X = np.column_stack([ones, X])\n",
    "\n",
    "    XTX = X.T.dot(X)\n",
    "    reg = r * np.eye(XTX.shape[0])\n",
    "    XTX = XTX + reg\n",
    "\n",
    "    XTX_inv = np.linalg.inv(XTX)\n",
    "    w = XTX_inv.dot(X.T).dot(y)\n",
    "    \n",
    "    return w[0], w[1:]"
   ]
  },
  {
   "cell_type": "code",
   "execution_count": null,
   "metadata": {},
   "outputs": [],
   "source": [
    "X_train = prepare2_X(df_train)"
   ]
  },
  {
   "cell_type": "code",
   "execution_count": null,
   "metadata": {},
   "outputs": [],
   "source": [
    "for r in [0, 0.001, 0.01, 0.1, 1, 10]:\n",
    "    w_0, w = train_linear_regression_reg(X_train, y_train, r=r)\n",
    "    print('%5s, %.2f, %.2f, %.2f' % (r, w_0, w[1], w[2]))"
   ]
  },
  {
   "cell_type": "code",
   "execution_count": null,
   "metadata": {},
   "outputs": [],
   "source": [
    "X_train = prepare2_X(df_train)\n",
    "w_0, w = train_linear_regression_reg(X_train, y_train, r=0)\n",
    "\n",
    "y_pred = w_0 + X_train.dot(w)\n",
    "print('train', rmse(y_train, y_pred))\n",
    "\n",
    "X_val = prepare2_X(df_val)\n",
    "y_pred = w_0 + X_val.dot(w)\n",
    "print('val', rmse(y_val, y_pred))"
   ]
  },
  {
   "cell_type": "code",
   "execution_count": null,
   "metadata": {},
   "outputs": [],
   "source": [
    "X_train = prepare2_X(df_train)\n",
    "w_0, w = train_linear_regression_reg(X_train, y_train, r=0.01)\n",
    "\n",
    "y_pred = w_0 + X_train.dot(w)\n",
    "print('train', rmse(y_train, y_pred))\n",
    "\n",
    "X_val = prepare2_X(df_val)\n",
    "y_pred = w_0 + X_val.dot(w)\n",
    "print('val', rmse(y_val, y_pred))"
   ]
  },
  {
   "cell_type": "code",
   "execution_count": null,
   "metadata": {},
   "outputs": [],
   "source": [
    "X_train = prepare2_X(df_train)\n",
    "X_val = prepare2_X(df_val)\n",
    "\n",
    "for r in [0.000001, 0.0001, 0.001, 0.01, 0.1, 1, 5, 10]:\n",
    "    w_0, w = train_linear_regression_reg(X_train, y_train, r=r)\n",
    "    y_pred = w_0 + X_val.dot(w)\n",
    "    print('%6s' %r, rmse(y_val, y_pred))"
   ]
  },
  {
   "cell_type": "code",
   "execution_count": null,
   "metadata": {},
   "outputs": [],
   "source": [
    "X_train = prepare2_X(df_train)\n",
    "w_0, w = train_linear_regression_reg(X_train, y_train, r=0.01)\n",
    "\n",
    "X_val = prepare2_X(df_val)\n",
    "y_pred = w_0 + X_val.dot(w)\n",
    "print('validation:', rmse(y_val, y_pred))\n",
    "\n",
    "X_test = prepare2_X(df_test)\n",
    "y_pred = w_0 + X_test.dot(w)\n",
    "print('test:', rmse(y_test, y_pred))"
   ]
  },
  {
   "cell_type": "markdown",
   "metadata": {},
   "source": [
    "## Using the model"
   ]
  },
  {
   "cell_type": "code",
   "execution_count": null,
   "metadata": {},
   "outputs": [],
   "source": [
    "# Let us select a vehicle in the Test set to predict its CO emission\n",
    "# with index=2, this is a 2024, Mercedes-Benz, Model: CLA 250 4MATIC\n",
    "\n",
    "i = 2\n",
    "ad = df_test.iloc[i].to_dict()\n",
    "ad"
   ]
  },
  {
   "cell_type": "code",
   "execution_count": null,
   "metadata": {},
   "outputs": [],
   "source": [
    "X_test = prepare2_X(pd.DataFrame([ad]))[0]\n",
    "y_pred = w_0 + X_test.dot(w)\n",
    "co_gmi_predicted = np.expm1(y_pred)\n",
    "co_gmi_predicted"
   ]
  },
  {
   "cell_type": "code",
   "execution_count": null,
   "metadata": {},
   "outputs": [],
   "source": [
    "# Here is the value of the observed CO(g/mi) in data sample i=2 in Y-test set\n",
    "co_gmi_observed = y_test[i]\n",
    "co_gmi_observed"
   ]
  },
  {
   "cell_type": "markdown",
   "metadata": {},
   "source": [
    "### Final Remarks\n",
    "\n",
    "These final results,co_gmi_predicted and co_gmi_observed, must now be assessed by an Environmental Engineer via domain-knowledge to decide if the model is accurate enough in its predictions.\n",
    "\n",
    "Of course, you can go back up and try to improve your model:\n",
    "1. What if you use a different set of X-variables?\n",
    "2. What if a data transformation such as log-transformation is implememented on the data X and/or Y vars?\n",
    "3. What if you group the main dataset according to certain obvious factor such as test-Fuel type?\n",
    "4. And many more...usually with the input of other experts. Some publications about the subject might also help you on how to improve your model."
   ]
  }
 ],
 "metadata": {
  "anaconda-cloud": {},
  "kernelspec": {
   "display_name": "Python [conda env:MachineLearning] *",
   "language": "python",
   "name": "conda-env-MachineLearning-py"
  },
  "language_info": {
   "codemirror_mode": {
    "name": "ipython",
    "version": 3
   },
   "file_extension": ".py",
   "mimetype": "text/x-python",
   "name": "python",
   "nbconvert_exporter": "python",
   "pygments_lexer": "ipython3",
   "version": "3.10.13"
  }
 },
 "nbformat": 4,
 "nbformat_minor": 4
}
